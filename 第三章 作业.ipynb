{
 "cells": [
  {
   "cell_type": "code",
   "execution_count": 2,
   "id": "8f1789fa",
   "metadata": {},
   "outputs": [
    {
     "name": "stdout",
     "output_type": "stream",
     "text": [
      "Xiao Ming\n",
      "Xiao Hong\n",
      "Zhang San\n"
     ]
    }
   ],
   "source": [
    "names=['xiao ming', 'xiao hong', 'zhang san']\n",
    "print(names[0].title())\n",
    "print(names[1].title())\n",
    "print(names[2].title())"
   ]
  },
  {
   "cell_type": "code",
   "execution_count": 4,
   "id": "ca230719",
   "metadata": {},
   "outputs": [
    {
     "name": "stdout",
     "output_type": "stream",
     "text": [
      "Nice to Meet U Xiao Ming\n"
     ]
    }
   ],
   "source": [
    "names=['xiao ming', 'xiao hong', 'zhang san']\n",
    "message=f\"Nice to Meet U {names[0].title()}\"\n",
    "print(message)"
   ]
  },
  {
   "cell_type": "code",
   "execution_count": 5,
   "id": "4a1e5557",
   "metadata": {},
   "outputs": [
    {
     "name": "stdout",
     "output_type": "stream",
     "text": [
      "Nice to Meet U Xiao Hong\n"
     ]
    }
   ],
   "source": [
    "message=f\"Nice to Meet U {names[1].title()}\"\n",
    "print(message)"
   ]
  },
  {
   "cell_type": "code",
   "execution_count": 6,
   "id": "e1428976",
   "metadata": {},
   "outputs": [
    {
     "name": "stdout",
     "output_type": "stream",
     "text": [
      "Nice to Meet U Zhang San\n"
     ]
    }
   ],
   "source": [
    "message=f\"Nice to Meet U {names[2].title()}\"\n",
    "print(message)"
   ]
  },
  {
   "cell_type": "code",
   "execution_count": 8,
   "id": "606e92cb",
   "metadata": {},
   "outputs": [
    {
     "name": "stdout",
     "output_type": "stream",
     "text": [
      "I would like to own a Giant Bike\n"
     ]
    }
   ],
   "source": [
    "ways=['bike', 'motorbike', 'car']\n",
    "message=f\"I would like to own a Giant {ways[0].title()}\"\n",
    "print(message)"
   ]
  },
  {
   "cell_type": "code",
   "execution_count": 10,
   "id": "bd87026a",
   "metadata": {},
   "outputs": [
    {
     "name": "stdout",
     "output_type": "stream",
     "text": [
      "I would like to own a Yamaha Motorbike\n"
     ]
    }
   ],
   "source": [
    "ways=['bike', 'motorbike', 'car']\n",
    "message=f\"I would like to own a Yamaha {ways[1].title()}\"\n",
    "print(message)"
   ]
  },
  {
   "cell_type": "code",
   "execution_count": 11,
   "id": "557cecba",
   "metadata": {},
   "outputs": [
    {
     "name": "stdout",
     "output_type": "stream",
     "text": [
      "I would like to own a Honda Car\n"
     ]
    }
   ],
   "source": [
    "ways=['bike', 'motorbike', 'car']\n",
    "message=f\"I would like to own a Honda {ways[2].title()}\"\n",
    "print(message)"
   ]
  },
  {
   "cell_type": "code",
   "execution_count": 15,
   "id": "f573f2ec",
   "metadata": {},
   "outputs": [
    {
     "name": "stdout",
     "output_type": "stream",
     "text": [
      "Xiao Ming is not avaiable.\n"
     ]
    }
   ],
   "source": [
    "names=['xiao ming', 'xiao hong', 'zhang san']\n",
    "message=f\"{names[0].title()} is not avaiable.\"\n",
    "print(message)"
   ]
  },
  {
   "cell_type": "code",
   "execution_count": 20,
   "id": "cc8384d0",
   "metadata": {},
   "outputs": [
    {
     "name": "stdout",
     "output_type": "stream",
     "text": [
      "['xiao li', 'xiao hong', 'zhang san']\n",
      "Hi Xiao Li. Would you like to have a dinner with me?\n",
      "Hi Xiao Hong. Would you like to have a dinner with me?\n",
      "Hi Zhang San. Would you like to have a dinner with me?\n"
     ]
    }
   ],
   "source": [
    "names=['xiao ming', 'xiao hong', 'zhang san']\n",
    "names[0]='xiao li'\n",
    "print(names)\n",
    "message_1=f\"Hi {names[0].title()}. Would you like to have a dinner with me?\"\n",
    "message_2=f\"Hi {names[1].title()}. Would you like to have a dinner with me?\"\n",
    "message_3=f\"Hi {names[2].title()}. Would you like to have a dinner with me?\"\n",
    "print(message_1)\n",
    "print(message_2)\n",
    "print(message_3)"
   ]
  },
  {
   "cell_type": "code",
   "execution_count": 29,
   "id": "2683182c",
   "metadata": {},
   "outputs": [
    {
     "name": "stdout",
     "output_type": "stream",
     "text": [
      "['xiao xiao', 'xiao li', 'xiao hong', 'zhang san']\n"
     ]
    }
   ],
   "source": [
    "names=['xiao li', 'xiao hong', 'zhang san']\n",
    "names.insert(0,'xiao xiao')\n",
    "print(names)"
   ]
  },
  {
   "cell_type": "code",
   "execution_count": 30,
   "id": "34e6e624",
   "metadata": {},
   "outputs": [
    {
     "name": "stdout",
     "output_type": "stream",
     "text": [
      "['xiao xiao', 'xiao li', 'da da', 'xiao hong', 'zhang san']\n"
     ]
    }
   ],
   "source": [
    "names.insert(2,'da da')\n",
    "print(names)"
   ]
  },
  {
   "cell_type": "code",
   "execution_count": 33,
   "id": "93d86d13",
   "metadata": {},
   "outputs": [
    {
     "name": "stdout",
     "output_type": "stream",
     "text": [
      "['xiao xiao', 'xiao li', 'da da', 'xiao hong', 'zhang san', 'yu yu', 'yu yu']\n",
      "非常抱歉，我只能邀请两个人。\n"
     ]
    }
   ],
   "source": [
    "names.append('yu yu')\n",
    "print(names)\n",
    "message=f\"非常抱歉，我只能邀请两个人。\"\n",
    "print(message)"
   ]
  },
  {
   "cell_type": "code",
   "execution_count": 35,
   "id": "ed2d3559",
   "metadata": {},
   "outputs": [
    {
     "name": "stdout",
     "output_type": "stream",
     "text": [
      "很抱歉，Yu Yu不在受邀范围之内。\n"
     ]
    }
   ],
   "source": [
    "not_invited=names.pop()\n",
    "message=f\"很抱歉，{not_invited.title()}不在受邀范围之内。\"\n",
    "print(message)"
   ]
  },
  {
   "cell_type": "code",
   "execution_count": 40,
   "id": "3cccf579",
   "metadata": {},
   "outputs": [
    {
     "name": "stdout",
     "output_type": "stream",
     "text": [
      "很抱歉，Xiao Hong不在受邀范围之内。\n"
     ]
    }
   ],
   "source": [
    "not_invited_1=names.pop(3)\n",
    "message=f\"很抱歉，{not_invited_1.title()}不在受邀范围之内。\"\n",
    "print(message)"
   ]
  },
  {
   "cell_type": "code",
   "execution_count": 42,
   "id": "a75f01c2",
   "metadata": {},
   "outputs": [
    {
     "name": "stdout",
     "output_type": "stream",
     "text": [
      "很抱歉，Da Da不在受邀范围之内。\n"
     ]
    }
   ],
   "source": [
    "not_invited_2=names.pop(2)\n",
    "message=f\"很抱歉，{not_invited_2.title()}不在受邀范围之内。\"\n",
    "print(message)"
   ]
  },
  {
   "cell_type": "code",
   "execution_count": 43,
   "id": "9088f2ca",
   "metadata": {},
   "outputs": [
    {
     "name": "stdout",
     "output_type": "stream",
     "text": [
      "['xiao xiao', 'xiao li']\n"
     ]
    }
   ],
   "source": [
    "print(names)"
   ]
  },
  {
   "cell_type": "code",
   "execution_count": 45,
   "id": "88aa805d",
   "metadata": {},
   "outputs": [
    {
     "name": "stdout",
     "output_type": "stream",
     "text": [
      "Xiao Xiao 依然在受邀范围内\n"
     ]
    }
   ],
   "source": [
    "message=f\"{names[0].title()} 依然在受邀范围内\"\n",
    "print(message)"
   ]
  },
  {
   "cell_type": "code",
   "execution_count": 46,
   "id": "b2b0d54c",
   "metadata": {},
   "outputs": [
    {
     "name": "stdout",
     "output_type": "stream",
     "text": [
      "Xiao Li 依然在受邀范围内\n"
     ]
    }
   ],
   "source": [
    "message=f\"{names[1].title()} 依然在受邀范围内\"\n",
    "print(message)"
   ]
  },
  {
   "cell_type": "code",
   "execution_count": null,
   "id": "9e08a4ae",
   "metadata": {},
   "outputs": [],
   "source": []
  }
 ],
 "metadata": {
  "kernelspec": {
   "display_name": "Python 3 (ipykernel)",
   "language": "python",
   "name": "python3"
  },
  "language_info": {
   "codemirror_mode": {
    "name": "ipython",
    "version": 3
   },
   "file_extension": ".py",
   "mimetype": "text/x-python",
   "name": "python",
   "nbconvert_exporter": "python",
   "pygments_lexer": "ipython3",
   "version": "3.11.5"
  }
 },
 "nbformat": 4,
 "nbformat_minor": 5
}
